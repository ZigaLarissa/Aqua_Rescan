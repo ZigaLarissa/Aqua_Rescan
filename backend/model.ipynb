{
 "cells": [
  {
   "cell_type": "markdown",
   "metadata": {},
   "source": [
    "AQUA RESCAN: WATER QUALITY MODEL\n",
    "\n",
    "Aqua Rescan is a user-friendly tool that helps you know if water is safe to drink. It uses a smart machine learning model called MLP (Multi-Layer Perceptron) to analyze data and make accurate predictions. All the data it learns from is stored in the data folder (filename: ____). By studying patterns in the data, Aqua Rescan can classify water as either potable (safe to drink) or not. This makes it a valuable tool for ensuring clean and safe water for everyone."
   ]
  }
 ],
 "metadata": {
  "language_info": {
   "name": "python"
  }
 },
 "nbformat": 4,
 "nbformat_minor": 2
}
